{
 "cells": [
  {
   "cell_type": "code",
   "execution_count": 18,
   "id": "68f2385c-2a89-4129-9d47-c6534f234acf",
   "metadata": {},
   "outputs": [],
   "source": [
    "# Potential Questions and Objectives\n",
    "\n",
    "# 1. Classification Problem: Detect Room Occupancy\n",
    "# Question: Can we accurately detect whether a room is occupied based on environmental data?\n",
    "# Objective: Train a classification model to predict occupancy status using environmental features.\n",
    "# Expected Output: A model that can classify a room as \"occupied\" or \"not occupied\" with high accuracy.\n",
    "\n",
    "# 2. Feature Importance Analysis: Identify Key Indicators\n",
    "# Question: Which environmental features are most indicative of room occupancy?\n",
    "# Objective: Analyze feature importance to determine which environmental factors most strongly influence occupancy.\n",
    "# Expected Output: Insights into which features (e.g., CO2, light) have the highest predictive power, potentially using feature importance from models like Decision Trees or feature selection techniques.\n",
    "\n",
    "# 3. Real-Time Occupancy Prediction: Potential Application of Model\n",
    "# Question: Can a model predict occupancy in real-time for potential applications like automated lighting or HVAC control?\n",
    "# Objective: Simulate a real-time prediction scenario and evaluate if the model is performant enough for real-time applications (using latency or predictive accuracy as metrics).\n",
    "# Expected Output: An analysis of model readiness for real-time prediction, based on metrics and model efficiency.\n",
    "\n",
    "# 4. Sensitivity Analysis: Impact of Environment on Occupancy Detection\n",
    "# Question: How sensitive is occupancy detection to changes in environmental conditions?\n",
    "# Objective: Conduct a sensitivity analysis to evaluate how variations in environmental features (e.g., high CO2 or low light) impact model predictions.\n",
    "# Expected Output: Insights into model robustness and areas where predictive accuracy may decrease under extreme conditions, e.g., during night-time.\n"
   ]
  },
  {
   "cell_type": "code",
   "execution_count": 6,
   "id": "da4da7d0-c30f-4867-a2db-335193765a85",
   "metadata": {},
   "outputs": [
    {
     "name": "stdout",
     "output_type": "stream",
     "text": [
      "                  date  Temperature  Humidity  Light     CO2  HumidityRatio  \\\n",
      "1  2015-02-04 17:51:00        23.18   27.2720  426.0  721.25       0.004793   \n",
      "2  2015-02-04 17:51:59        23.15   27.2675  429.5  714.00       0.004783   \n",
      "3  2015-02-04 17:53:00        23.15   27.2450  426.0  713.50       0.004779   \n",
      "4  2015-02-04 17:54:00        23.15   27.2000  426.0  708.25       0.004772   \n",
      "5  2015-02-04 17:55:00        23.10   27.2000  426.0  704.50       0.004757   \n",
      "\n",
      "   Occupancy  \n",
      "1          1  \n",
      "2          1  \n",
      "3          1  \n",
      "4          1  \n",
      "5          1  \n"
     ]
    }
   ],
   "source": [
    "import pandas as pd\n",
    "\n",
    "# Load the dataset (replace with your file path)\n",
    "df = pd.read_csv('../datasets/datatraining.txt')\n",
    "print(df.head())\n"
   ]
  },
  {
   "cell_type": "code",
   "execution_count": 8,
   "id": "90045cef-7a10-43fd-b948-fa7d64d0a585",
   "metadata": {},
   "outputs": [
    {
     "name": "stdout",
     "output_type": "stream",
     "text": [
      "date             0\n",
      "Temperature      0\n",
      "Humidity         0\n",
      "Light            0\n",
      "CO2              0\n",
      "HumidityRatio    0\n",
      "Occupancy        0\n",
      "dtype: int64\n",
      "       Temperature     Humidity        Light          CO2  HumidityRatio  \\\n",
      "count  8143.000000  8143.000000  8143.000000  8143.000000    8143.000000   \n",
      "mean     20.619084    25.731507   119.519375   606.546243       0.003863   \n",
      "std       1.016916     5.531211   194.755805   314.320877       0.000852   \n",
      "min      19.000000    16.745000     0.000000   412.750000       0.002674   \n",
      "25%      19.700000    20.200000     0.000000   439.000000       0.003078   \n",
      "50%      20.390000    26.222500     0.000000   453.500000       0.003801   \n",
      "75%      21.390000    30.533333   256.375000   638.833333       0.004352   \n",
      "max      23.180000    39.117500  1546.333333  2028.500000       0.006476   \n",
      "\n",
      "         Occupancy  \n",
      "count  8143.000000  \n",
      "mean      0.212330  \n",
      "std       0.408982  \n",
      "min       0.000000  \n",
      "25%       0.000000  \n",
      "50%       0.000000  \n",
      "75%       0.000000  \n",
      "max       1.000000  \n"
     ]
    }
   ],
   "source": [
    "# Check for missing values\n",
    "print(df.isnull().sum())\n",
    "\n",
    "# Describe the data\n",
    "print(df.describe())\n",
    "\n",
    "# Convert any date columns (if available)\n",
    "df['date'] = pd.to_datetime(df['date'])\n",
    "\n",
    "# Drop or encode columns as necessary (e.g., drop 'date' if not needed)\n",
    "df = df.drop('date', axis=1)\n"
   ]
  },
  {
   "cell_type": "code",
   "execution_count": 10,
   "id": "eaee4378-b3ff-4885-b4f7-7adb11d5af72",
   "metadata": {},
   "outputs": [],
   "source": [
    "from sklearn.model_selection import train_test_split\n",
    "\n",
    "X = df.drop('Occupancy', axis=1)\n",
    "y = df['Occupancy']\n",
    "\n",
    "X_train, X_test, y_train, y_test = train_test_split(X, y, test_size=0.2, random_state=42)\n"
   ]
  },
  {
   "cell_type": "code",
   "execution_count": 12,
   "id": "12d95e92-f4b7-4b6e-8f6f-46cda2eed6a9",
   "metadata": {},
   "outputs": [
    {
     "name": "stdout",
     "output_type": "stream",
     "text": [
      "Decision Tree Accuracy: 0.9920196439533456\n",
      "              precision    recall  f1-score   support\n",
      "\n",
      "           0       1.00      0.99      0.99      1286\n",
      "           1       0.98      0.99      0.98       343\n",
      "\n",
      "    accuracy                           0.99      1629\n",
      "   macro avg       0.99      0.99      0.99      1629\n",
      "weighted avg       0.99      0.99      0.99      1629\n",
      "\n"
     ]
    }
   ],
   "source": [
    "from sklearn.tree import DecisionTreeClassifier\n",
    "from sklearn.metrics import accuracy_score, classification_report\n",
    "\n",
    "# Train the model\n",
    "dt_model = DecisionTreeClassifier(random_state=42)\n",
    "dt_model.fit(X_train, y_train)\n",
    "\n",
    "# Predict and evaluate\n",
    "y_pred = dt_model.predict(X_test)\n",
    "print(\"Decision Tree Accuracy:\", accuracy_score(y_test, y_pred))\n",
    "print(classification_report(y_test, y_pred))\n"
   ]
  },
  {
   "cell_type": "code",
   "execution_count": 14,
   "id": "8ad0c090-703e-4bac-90e3-a463121506d4",
   "metadata": {},
   "outputs": [
    {
     "name": "stdout",
     "output_type": "stream",
     "text": [
      "KNN Accuracy: 0.9901780233271946\n",
      "              precision    recall  f1-score   support\n",
      "\n",
      "           0       1.00      0.99      0.99      1286\n",
      "           1       0.96      1.00      0.98       343\n",
      "\n",
      "    accuracy                           0.99      1629\n",
      "   macro avg       0.98      0.99      0.99      1629\n",
      "weighted avg       0.99      0.99      0.99      1629\n",
      "\n"
     ]
    }
   ],
   "source": [
    "from sklearn.neighbors import KNeighborsClassifier\n",
    "\n",
    "# Train the model\n",
    "knn_model = KNeighborsClassifier(n_neighbors=5)\n",
    "knn_model.fit(X_train, y_train)\n",
    "\n",
    "# Predict and evaluate\n",
    "y_pred_knn = knn_model.predict(X_test)\n",
    "print(\"KNN Accuracy:\", accuracy_score(y_test, y_pred_knn))\n",
    "print(classification_report(y_test, y_pred_knn))\n"
   ]
  },
  {
   "cell_type": "code",
   "execution_count": 16,
   "id": "d230cbc8-2a3f-422d-968b-8882b6da6381",
   "metadata": {},
   "outputs": [
    {
     "data": {
      "image/png": "[encoded data removed]",
      "text/plain": [
       "<Figure size 640x480 with 1 Axes>"
      ]
     },
     "metadata": {},
     "output_type": "display_data"
    }
   ],
   "source": [
    "import matplotlib.pyplot as plt\n",
    "import seaborn as sns\n",
    "\n",
    "# Feature importance\n",
    "feature_importance = dt_model.feature_importances_\n",
    "sns.barplot(x=feature_importance, y=X.columns)\n",
    "plt.xlabel('Importance')\n",
    "plt.ylabel('Feature')\n",
    "plt.title('Feature Importance in Decision Tree')\n",
    "plt.show()\n"
   ]
  },
  {
   "cell_type": "code",
   "execution_count": null,
   "id": "7df553a9-9996-473d-8a20-6983564773e2",
   "metadata": {},
   "outputs": [],
   "source": []
  }
 ],
 "metadata": {
  "kernelspec": {
   "display_name": "Python 3 (ipykernel)",
   "language": "python",
   "name": "python3"
  },
  "language_info": {
   "codemirror_mode": {
    "name": "ipython",
    "version": 3
   },
   "file_extension": ".py",
   "mimetype": "text/x-python",
   "name": "python",
   "nbconvert_exporter": "python",
   "pygments_lexer": "ipython3",
   "version": "3.12.4"
  }
 },
 "nbformat": 4,
 "nbformat_minor": 5
}
